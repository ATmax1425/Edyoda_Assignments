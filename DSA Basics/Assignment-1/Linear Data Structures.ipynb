{
  "nbformat": 4,
  "nbformat_minor": 0,
  "metadata": {
    "colab": {
      "provenance": []
    },
    "kernelspec": {
      "name": "python3",
      "display_name": "Python 3"
    },
    "language_info": {
      "name": "python"
    }
  },
  "cells": [
    {
      "cell_type": "code",
      "execution_count": null,
      "metadata": {
        "colab": {
          "base_uri": "https://localhost:8080/"
        },
        "id": "d6f5EM2-yk1a",
        "outputId": "04a0610e-2d51-4570-d231-0ec4a8edd4bb"
      },
      "outputs": [
        {
          "output_type": "stream",
          "name": "stdout",
          "text": [
            "enter values of array separated by space.\n",
            ": 1 2 3 4 5 6 7 8 9 10\n",
            "enter needed sum value: 5\n",
            "ans: [(1, 4), (2, 3)]\n"
          ]
        }
      ],
      "source": [
        "# Q1. Write a program to find all pairs of an integer array whose sum is equal to a given number?\n",
        "\n",
        "from itertools import combinations\n",
        "array = list(map(int, input(\"enter values of array separated by space.\\n: \").split()))\n",
        "given_num = int(input(\"enter needed sum value: \"))\n",
        "comb = combinations(array, 2)\n",
        "ans = [i for i in comb if sum(i) == given_num]\n",
        "print(\"ans:\", ans)"
      ]
    },
    {
      "cell_type": "code",
      "source": [
        "# Q2. Write a program to reverse an array in place? In place means you cannot create a new array. You have to update the original array.\n",
        "\n",
        "array = list(map(int, input(\"enter values of array separated by space.\\n: \").split()))\n",
        "for i in range(len(array)//2):\n",
        "  array[i], array[-(i+1)] = array[-(i+1)], array[i]\n",
        "print(array)"
      ],
      "metadata": {
        "id": "DBGVzuiVyqkG",
        "colab": {
          "base_uri": "https://localhost:8080/"
        },
        "outputId": "194b8ecd-0b6d-4044-a2a5-7db1c8cd4c93"
      },
      "execution_count": null,
      "outputs": [
        {
          "output_type": "stream",
          "name": "stdout",
          "text": [
            "enter values of array separated by space.\n",
            ": 1 2 3 4 5 6 7 8 9\n",
            "[9, 8, 7, 6, 5, 4, 3, 2, 1]\n"
          ]
        }
      ]
    },
    {
      "cell_type": "code",
      "source": [
        "# Q3. Write a program to check if two strings are a rotation of each other?\n",
        "\n",
        "str1 = input(\"Enter orignal string: \")\n",
        "str2 = input(\"Enter test string: \")\n",
        "str1_str2 = \"\".join([str1, str2])\n",
        "if str1 == str2 or len(str1) != len(str2):\n",
        "  print(\"Strings are not rotations of each other\")\n",
        "else:\n",
        "  if str2 in str1_str2:\n",
        "    print(\"Strings are rotations of each other\")\n",
        "  else:\n",
        "    print(\"Strings are not rotations of each other\")"
      ],
      "metadata": {
        "id": "ZuG7d22ryr11",
        "colab": {
          "base_uri": "https://localhost:8080/"
        },
        "outputId": "6928a33b-7ffe-4ae2-af2f-adec87f7b276"
      },
      "execution_count": null,
      "outputs": [
        {
          "output_type": "stream",
          "name": "stdout",
          "text": [
            "Enter orignal string: 123456\n",
            "Enter test string: 345612\n",
            "Strings are rotations of each other\n"
          ]
        }
      ]
    },
    {
      "cell_type": "code",
      "source": [
        "# Q4. Write a program to print the first non-repeated character from a string?\n",
        "\n",
        "from collections import Counter\n",
        "inp_str = input(\"Enter string: \")\n",
        "counter = Counter(inp_str)\n",
        "non_repeated = {inp_str.index(i):i for i in counter.keys() if counter[i] == 1}\n",
        "if non_repeated:\n",
        "  first_non_repeated = min(non_repeated.keys())\n",
        "  print(\"first non-repeated character is\", non_repeated[first_non_repeated])\n",
        "else:\n",
        "  print(\"all characters are repeated\")"
      ],
      "metadata": {
        "id": "5DgnOEabyvBu",
        "colab": {
          "base_uri": "https://localhost:8080/"
        },
        "outputId": "e03b1058-bd86-4fce-ffc0-a617a7ffbae5"
      },
      "execution_count": null,
      "outputs": [
        {
          "output_type": "stream",
          "name": "stdout",
          "text": [
            "Enter string: aniket palaskar\n",
            "first non-repeated character is n\n"
          ]
        }
      ]
    },
    {
      "cell_type": "code",
      "source": [
        "# Q5. Read about the Tower of Hanoi algorithm. Write a program to implement it.\n",
        "\n",
        "def print_instruction(n, st1, st2):\n",
        "  print(f\"move disk no {n} from rod {st1} to rod {st2}\")\n",
        "\n",
        "def tower_of_hanoi(n, start, end):\n",
        "  if n == 1:\n",
        "    print_instruction(n, start, end)\n",
        "  else:\n",
        "    other = 6 - (start + end)\n",
        "    tower_of_hanoi(n-1, start, other)\n",
        "    print_instruction(n, start, end)\n",
        "    tower_of_hanoi(n-1, other, end)\n",
        "\n",
        "n = int(input(\"Enter number of disks: \"))\n",
        "\n",
        "tower_of_hanoi(n, 1, 3)"
      ],
      "metadata": {
        "id": "PkACObHtywxd",
        "colab": {
          "base_uri": "https://localhost:8080/"
        },
        "outputId": "40a97e58-72ae-4f20-b477-dd31dd78a4b2"
      },
      "execution_count": null,
      "outputs": [
        {
          "output_type": "stream",
          "name": "stdout",
          "text": [
            "Enter number of disks: 3\n",
            "move disk no 1 from rod 1 to rod 3\n",
            "move disk no 2 from rod 1 to rod 2\n",
            "move disk no 1 from rod 3 to rod 2\n",
            "move disk no 3 from rod 1 to rod 3\n",
            "move disk no 1 from rod 2 to rod 1\n",
            "move disk no 2 from rod 2 to rod 3\n",
            "move disk no 1 from rod 1 to rod 3\n"
          ]
        }
      ]
    },
    {
      "cell_type": "code",
      "source": [
        "# Q6. Read about infix, prefix, and postfix expressions. Write a program to convert postfix to prefix expression.\n",
        "\n",
        "postfix = input(\"Enter postfix expression: \")\n",
        "s = []\n",
        "for i in postfix:\n",
        "  if i.isalnum():\n",
        "    s.append(i)\n",
        "  else:\n",
        "    op1 = s[-1]\n",
        "    op2 = s[-2]\n",
        "    s.pop()\n",
        "    s.pop()\n",
        "    s.append(i+op2+op1)\n",
        "print(\"prefix expression is\",*s)"
      ],
      "metadata": {
        "id": "ZPk6UxYXyx50",
        "colab": {
          "base_uri": "https://localhost:8080/"
        },
        "outputId": "71c46657-7f71-40fc-ccd3-1276644e3e17"
      },
      "execution_count": null,
      "outputs": [
        {
          "output_type": "stream",
          "name": "stdout",
          "text": [
            "Enter postfix expression: AB+CD-*\n",
            "prefix expression is *+AB-CD\n"
          ]
        }
      ]
    },
    {
      "cell_type": "code",
      "source": [
        "# Q7. Write a program to convert prefix expression to infix expression.\n",
        "\n",
        "prefix = input(\"Enter prefix expression: \")\n",
        "s = []\n",
        "for i in reversed(prefix):\n",
        "  if i.isalnum():\n",
        "    s.append(i)\n",
        "  else:\n",
        "    op1 = s[-1]\n",
        "    op2 = s[-2]\n",
        "    s.pop()\n",
        "    s.pop()\n",
        "    s.append(f\"({op1}{i}{op2})\")\n",
        "print(\"infix expression is\",*s)"
      ],
      "metadata": {
        "id": "R9qWnPlTyzGs",
        "colab": {
          "base_uri": "https://localhost:8080/"
        },
        "outputId": "df9b0de9-7f7d-4c5e-aaef-ea3452c6b901"
      },
      "execution_count": null,
      "outputs": [
        {
          "output_type": "stream",
          "name": "stdout",
          "text": [
            "Enter prefix expression: *+AB-CD\n",
            "infix expression is ((A+B)*(C-D))\n"
          ]
        }
      ]
    },
    {
      "cell_type": "code",
      "source": [
        "# Q8. Write a program to check if all the brackets are closed in a given code snippet.\n",
        "\n",
        "\n",
        "expression = input(\"Enter Brackets expression: \")\n",
        "s = []\n",
        "o = \"{[(\"\n",
        "c = \"}])\"\n",
        "for i in expression:\n",
        "  if i in o:\n",
        "    s.append(i)\n",
        "  else:\n",
        "    if len(s) == 0:\n",
        "      print(\"Not Balanced\")\n",
        "      break\n",
        "    b = s.pop()\n",
        "    if o.index(b) != c.index(i):\n",
        "      print(\"Not Balanced\")\n",
        "      break\n",
        "else:\n",
        "  if len(s) == 0:\n",
        "    print(\"Balanced\")\n",
        "  else:\n",
        "    print(\"Not Balanced\")"
      ],
      "metadata": {
        "id": "uWibWF6yyz_E",
        "colab": {
          "base_uri": "https://localhost:8080/"
        },
        "outputId": "be8c866d-ed0c-4131-8cf7-5c8872520842"
      },
      "execution_count": null,
      "outputs": [
        {
          "output_type": "stream",
          "name": "stdout",
          "text": [
            "Enter Brackets expression: [()]{}{[()()]()}\n",
            "Balanced\n"
          ]
        }
      ]
    },
    {
      "cell_type": "code",
      "source": [
        "# Q9. Write a program to reverse a stack.\n",
        "\n",
        "stack = list(map(int, input(\"enter values of stack separated by space.\\n: \").split()))\n",
        "rev_stack = []\n",
        "for _ in range(len(stack)):\n",
        "  rev_stack.append(stack.pop())\n",
        "print(\"reversed stack is\",*rev_stack)"
      ],
      "metadata": {
        "id": "yA8zRTTyy1F8",
        "colab": {
          "base_uri": "https://localhost:8080/"
        },
        "outputId": "8e884ac5-a5a9-49aa-f3c6-af1db94ee53f"
      },
      "execution_count": null,
      "outputs": [
        {
          "output_type": "stream",
          "name": "stdout",
          "text": [
            "enter values of array separated by space.\n",
            ": 1 2 3 4 5 6 7 8 9\n",
            "reversed stack is 9 8 7 6 5 4 3 2 1\n"
          ]
        }
      ]
    },
    {
      "cell_type": "code",
      "source": [
        "# Q10. Write a program to find the smallest number using a stack.\n",
        "\n",
        "stack = list(map(int, input(\"enter values of stack separated by space.\\n: \").split()))\n",
        "sm_num = stack.pop()\n",
        "for _ in range(len(stack)):\n",
        "  i = stack.pop()\n",
        "  if i < sm_num:\n",
        "    sm_num = i\n",
        "print(f\"smallest number in given stack is {sm_num}\")"
      ],
      "metadata": {
        "id": "7SskYIv2y2Sk",
        "colab": {
          "base_uri": "https://localhost:8080/"
        },
        "outputId": "1346952a-ac6d-47af-e06d-8d73df12f103"
      },
      "execution_count": 6,
      "outputs": [
        {
          "output_type": "stream",
          "name": "stdout",
          "text": [
            "enter values of stack separated by space.\n",
            ": 8 6 9 5 4 7 5 3 9 5 2\n",
            "smallest number in given stack is 2\n"
          ]
        }
      ]
    }
  ]
}