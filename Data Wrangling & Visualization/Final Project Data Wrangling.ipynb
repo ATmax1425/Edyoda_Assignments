{
 "cells": [
  {
   "cell_type": "code",
   "execution_count": 1,
   "id": "a4bd8d98-b254-4f8f-abca-020f8d6bf8b8",
   "metadata": {},
   "outputs": [],
   "source": [
    "import numpy as np\n",
    "import pandas as pd\n",
    "import matplotlib.pyplot as plt\n",
    "import seaborn as sns"
   ]
  },
  {
   "cell_type": "code",
   "execution_count": 2,
   "id": "4c6d565b-eba1-42c6-935b-67c16ba2b27d",
   "metadata": {},
   "outputs": [],
   "source": [
    "url = \"https://raw.githubusercontent.com/SR1608/Datasets/main/covid-data.csv\""
   ]
  },
  {
   "cell_type": "markdown",
   "id": "29398822-e65c-4377-8736-c456a0c08928",
   "metadata": {},
   "source": [
    "# 1. Import the dataset using Pandas from above mentioned url"
   ]
  },
  {
   "cell_type": "code",
   "execution_count": 3,
   "id": "27e6eed5-b54d-4eb4-b5a5-1fac020c56b9",
   "metadata": {},
   "outputs": [
    {
     "data": {
      "text/html": [
       "<div>\n",
       "<style scoped>\n",
       "    .dataframe tbody tr th:only-of-type {\n",
       "        vertical-align: middle;\n",
       "    }\n",
       "\n",
       "    .dataframe tbody tr th {\n",
       "        vertical-align: top;\n",
       "    }\n",
       "\n",
       "    .dataframe thead th {\n",
       "        text-align: right;\n",
       "    }\n",
       "</style>\n",
       "<table border=\"1\" class=\"dataframe\">\n",
       "  <thead>\n",
       "    <tr style=\"text-align: right;\">\n",
       "      <th></th>\n",
       "      <th>iso_code</th>\n",
       "      <th>continent</th>\n",
       "      <th>location</th>\n",
       "      <th>date</th>\n",
       "      <th>total_cases</th>\n",
       "      <th>new_cases</th>\n",
       "      <th>new_cases_smoothed</th>\n",
       "      <th>total_deaths</th>\n",
       "      <th>new_deaths</th>\n",
       "      <th>new_deaths_smoothed</th>\n",
       "      <th>...</th>\n",
       "      <th>gdp_per_capita</th>\n",
       "      <th>extreme_poverty</th>\n",
       "      <th>cardiovasc_death_rate</th>\n",
       "      <th>diabetes_prevalence</th>\n",
       "      <th>female_smokers</th>\n",
       "      <th>male_smokers</th>\n",
       "      <th>handwashing_facilities</th>\n",
       "      <th>hospital_beds_per_thousand</th>\n",
       "      <th>life_expectancy</th>\n",
       "      <th>human_development_index</th>\n",
       "    </tr>\n",
       "  </thead>\n",
       "  <tbody>\n",
       "    <tr>\n",
       "      <th>0</th>\n",
       "      <td>AFG</td>\n",
       "      <td>Asia</td>\n",
       "      <td>Afghanistan</td>\n",
       "      <td>31/12/19</td>\n",
       "      <td>NaN</td>\n",
       "      <td>0.0</td>\n",
       "      <td>NaN</td>\n",
       "      <td>NaN</td>\n",
       "      <td>0.0</td>\n",
       "      <td>NaN</td>\n",
       "      <td>...</td>\n",
       "      <td>1803.987</td>\n",
       "      <td>NaN</td>\n",
       "      <td>597.029</td>\n",
       "      <td>9.59</td>\n",
       "      <td>NaN</td>\n",
       "      <td>NaN</td>\n",
       "      <td>37.746</td>\n",
       "      <td>0.5</td>\n",
       "      <td>64.83</td>\n",
       "      <td>0.498</td>\n",
       "    </tr>\n",
       "    <tr>\n",
       "      <th>1</th>\n",
       "      <td>AFG</td>\n",
       "      <td>Asia</td>\n",
       "      <td>Afghanistan</td>\n",
       "      <td>01/01/20</td>\n",
       "      <td>NaN</td>\n",
       "      <td>0.0</td>\n",
       "      <td>NaN</td>\n",
       "      <td>NaN</td>\n",
       "      <td>0.0</td>\n",
       "      <td>NaN</td>\n",
       "      <td>...</td>\n",
       "      <td>1803.987</td>\n",
       "      <td>NaN</td>\n",
       "      <td>597.029</td>\n",
       "      <td>9.59</td>\n",
       "      <td>NaN</td>\n",
       "      <td>NaN</td>\n",
       "      <td>37.746</td>\n",
       "      <td>0.5</td>\n",
       "      <td>64.83</td>\n",
       "      <td>0.498</td>\n",
       "    </tr>\n",
       "    <tr>\n",
       "      <th>2</th>\n",
       "      <td>AFG</td>\n",
       "      <td>Asia</td>\n",
       "      <td>Afghanistan</td>\n",
       "      <td>02/01/20</td>\n",
       "      <td>NaN</td>\n",
       "      <td>0.0</td>\n",
       "      <td>NaN</td>\n",
       "      <td>NaN</td>\n",
       "      <td>0.0</td>\n",
       "      <td>NaN</td>\n",
       "      <td>...</td>\n",
       "      <td>1803.987</td>\n",
       "      <td>NaN</td>\n",
       "      <td>597.029</td>\n",
       "      <td>9.59</td>\n",
       "      <td>NaN</td>\n",
       "      <td>NaN</td>\n",
       "      <td>37.746</td>\n",
       "      <td>0.5</td>\n",
       "      <td>64.83</td>\n",
       "      <td>0.498</td>\n",
       "    </tr>\n",
       "    <tr>\n",
       "      <th>3</th>\n",
       "      <td>AFG</td>\n",
       "      <td>Asia</td>\n",
       "      <td>Afghanistan</td>\n",
       "      <td>03/01/20</td>\n",
       "      <td>NaN</td>\n",
       "      <td>0.0</td>\n",
       "      <td>NaN</td>\n",
       "      <td>NaN</td>\n",
       "      <td>0.0</td>\n",
       "      <td>NaN</td>\n",
       "      <td>...</td>\n",
       "      <td>1803.987</td>\n",
       "      <td>NaN</td>\n",
       "      <td>597.029</td>\n",
       "      <td>9.59</td>\n",
       "      <td>NaN</td>\n",
       "      <td>NaN</td>\n",
       "      <td>37.746</td>\n",
       "      <td>0.5</td>\n",
       "      <td>64.83</td>\n",
       "      <td>0.498</td>\n",
       "    </tr>\n",
       "    <tr>\n",
       "      <th>4</th>\n",
       "      <td>AFG</td>\n",
       "      <td>Asia</td>\n",
       "      <td>Afghanistan</td>\n",
       "      <td>04/01/20</td>\n",
       "      <td>NaN</td>\n",
       "      <td>0.0</td>\n",
       "      <td>NaN</td>\n",
       "      <td>NaN</td>\n",
       "      <td>0.0</td>\n",
       "      <td>NaN</td>\n",
       "      <td>...</td>\n",
       "      <td>1803.987</td>\n",
       "      <td>NaN</td>\n",
       "      <td>597.029</td>\n",
       "      <td>9.59</td>\n",
       "      <td>NaN</td>\n",
       "      <td>NaN</td>\n",
       "      <td>37.746</td>\n",
       "      <td>0.5</td>\n",
       "      <td>64.83</td>\n",
       "      <td>0.498</td>\n",
       "    </tr>\n",
       "  </tbody>\n",
       "</table>\n",
       "<p>5 rows × 49 columns</p>\n",
       "</div>"
      ],
      "text/plain": [
       "  iso_code continent     location      date  total_cases  new_cases  \\\n",
       "0      AFG      Asia  Afghanistan  31/12/19          NaN        0.0   \n",
       "1      AFG      Asia  Afghanistan  01/01/20          NaN        0.0   \n",
       "2      AFG      Asia  Afghanistan  02/01/20          NaN        0.0   \n",
       "3      AFG      Asia  Afghanistan  03/01/20          NaN        0.0   \n",
       "4      AFG      Asia  Afghanistan  04/01/20          NaN        0.0   \n",
       "\n",
       "   new_cases_smoothed  total_deaths  new_deaths  new_deaths_smoothed  ...  \\\n",
       "0                 NaN           NaN         0.0                  NaN  ...   \n",
       "1                 NaN           NaN         0.0                  NaN  ...   \n",
       "2                 NaN           NaN         0.0                  NaN  ...   \n",
       "3                 NaN           NaN         0.0                  NaN  ...   \n",
       "4                 NaN           NaN         0.0                  NaN  ...   \n",
       "\n",
       "   gdp_per_capita  extreme_poverty  cardiovasc_death_rate  \\\n",
       "0        1803.987              NaN                597.029   \n",
       "1        1803.987              NaN                597.029   \n",
       "2        1803.987              NaN                597.029   \n",
       "3        1803.987              NaN                597.029   \n",
       "4        1803.987              NaN                597.029   \n",
       "\n",
       "   diabetes_prevalence  female_smokers  male_smokers  handwashing_facilities  \\\n",
       "0                 9.59             NaN           NaN                  37.746   \n",
       "1                 9.59             NaN           NaN                  37.746   \n",
       "2                 9.59             NaN           NaN                  37.746   \n",
       "3                 9.59             NaN           NaN                  37.746   \n",
       "4                 9.59             NaN           NaN                  37.746   \n",
       "\n",
       "   hospital_beds_per_thousand  life_expectancy  human_development_index  \n",
       "0                         0.5            64.83                    0.498  \n",
       "1                         0.5            64.83                    0.498  \n",
       "2                         0.5            64.83                    0.498  \n",
       "3                         0.5            64.83                    0.498  \n",
       "4                         0.5            64.83                    0.498  \n",
       "\n",
       "[5 rows x 49 columns]"
      ]
     },
     "execution_count": 3,
     "metadata": {},
     "output_type": "execute_result"
    }
   ],
   "source": [
    "df = pd.read_csv(url)\n",
    "df.head()"
   ]
  },
  {
   "cell_type": "markdown",
   "id": "bc5966b5-9b47-4772-a57d-74654550ebaf",
   "metadata": {},
   "source": [
    "# 2. High Level Data Understanding:"
   ]
  },
  {
   "cell_type": "markdown",
   "id": "43ea1cbe-313c-4fc1-898d-dbb95ab9f9e1",
   "metadata": {},
   "source": [
    "## a. Find no. of rows & columns in the dataset"
   ]
  },
  {
   "cell_type": "code",
   "execution_count": 4,
   "id": "19cc0e90-7195-43a5-b456-b21227730a7f",
   "metadata": {},
   "outputs": [
    {
     "name": "stdout",
     "output_type": "stream",
     "text": [
      "No. of rows are: 57394, and No. of cols are: 49.\n"
     ]
    }
   ],
   "source": [
    "row_len, col_len = df.shape\n",
    "print(f\"No. of rows are: {row_len}, and No. of cols are: {col_len}.\")"
   ]
  },
  {
   "cell_type": "markdown",
   "id": "d70208d5-5ecc-4900-9d48-372139bbc9f8",
   "metadata": {},
   "source": [
    "## b. Data types of columns. "
   ]
  },
  {
   "cell_type": "code",
   "execution_count": 5,
   "id": "292c64b5-71f0-4aec-8498-ee260b5ffb4d",
   "metadata": {
    "tags": []
   },
   "outputs": [
    {
     "data": {
      "text/plain": [
       "iso_code                               object\n",
       "continent                              object\n",
       "location                               object\n",
       "date                                   object\n",
       "total_cases                           float64\n",
       "new_cases                             float64\n",
       "new_cases_smoothed                    float64\n",
       "total_deaths                          float64\n",
       "new_deaths                            float64\n",
       "new_deaths_smoothed                   float64\n",
       "total_cases_per_million               float64\n",
       "new_cases_per_million                 float64\n",
       "new_cases_smoothed_per_million        float64\n",
       "total_deaths_per_million              float64\n",
       "new_deaths_per_million                float64\n",
       "new_deaths_smoothed_per_million       float64\n",
       "reproduction_rate                     float64\n",
       "icu_patients                          float64\n",
       "icu_patients_per_million              float64\n",
       "hosp_patients                         float64\n",
       "hosp_patients_per_million             float64\n",
       "weekly_icu_admissions                 float64\n",
       "weekly_icu_admissions_per_million     float64\n",
       "weekly_hosp_admissions                float64\n",
       "weekly_hosp_admissions_per_million    float64\n",
       "total_tests                           float64\n",
       "new_tests                             float64\n",
       "total_tests_per_thousand              float64\n",
       "new_tests_per_thousand                float64\n",
       "new_tests_smoothed                    float64\n",
       "new_tests_smoothed_per_thousand       float64\n",
       "tests_per_case                        float64\n",
       "positive_rate                         float64\n",
       "stringency_index                      float64\n",
       "population                            float64\n",
       "population_density                    float64\n",
       "median_age                            float64\n",
       "aged_65_older                         float64\n",
       "aged_70_older                         float64\n",
       "gdp_per_capita                        float64\n",
       "extreme_poverty                       float64\n",
       "cardiovasc_death_rate                 float64\n",
       "diabetes_prevalence                   float64\n",
       "female_smokers                        float64\n",
       "male_smokers                          float64\n",
       "handwashing_facilities                float64\n",
       "hospital_beds_per_thousand            float64\n",
       "life_expectancy                       float64\n",
       "human_development_index               float64\n",
       "dtype: object"
      ]
     },
     "execution_count": 5,
     "metadata": {},
     "output_type": "execute_result"
    }
   ],
   "source": [
    "df.dtypes"
   ]
  },
  {
   "cell_type": "markdown",
   "id": "ace92f72-05dc-4616-b165-e773b223bec9",
   "metadata": {},
   "source": [
    "## c. Info & describe of data in dataframe."
   ]
  },
  {
   "cell_type": "code",
   "execution_count": 6,
   "id": "eec8a570-247e-47ae-865a-83320112b3cd",
   "metadata": {
    "tags": []
   },
   "outputs": [
    {
     "name": "stdout",
     "output_type": "stream",
     "text": [
      "<class 'pandas.core.frame.DataFrame'>\n",
      "RangeIndex: 57394 entries, 0 to 57393\n",
      "Data columns (total 49 columns):\n",
      " #   Column                              Non-Null Count  Dtype  \n",
      "---  ------                              --------------  -----  \n",
      " 0   iso_code                            57071 non-null  object \n",
      " 1   continent                           56748 non-null  object \n",
      " 2   location                            57394 non-null  object \n",
      " 3   date                                57394 non-null  object \n",
      " 4   total_cases                         53758 non-null  float64\n",
      " 5   new_cases                           56465 non-null  float64\n",
      " 6   new_cases_smoothed                  55652 non-null  float64\n",
      " 7   total_deaths                        44368 non-null  float64\n",
      " 8   new_deaths                          56465 non-null  float64\n",
      " 9   new_deaths_smoothed                 55652 non-null  float64\n",
      " 10  total_cases_per_million             53471 non-null  float64\n",
      " 11  new_cases_per_million               56401 non-null  float64\n",
      " 12  new_cases_smoothed_per_million      55587 non-null  float64\n",
      " 13  total_deaths_per_million            44096 non-null  float64\n",
      " 14  new_deaths_per_million              56401 non-null  float64\n",
      " 15  new_deaths_smoothed_per_million     55587 non-null  float64\n",
      " 16  reproduction_rate                   37696 non-null  float64\n",
      " 17  icu_patients                        4490 non-null   float64\n",
      " 18  icu_patients_per_million            4490 non-null   float64\n",
      " 19  hosp_patients                       5005 non-null   float64\n",
      " 20  hosp_patients_per_million           5005 non-null   float64\n",
      " 21  weekly_icu_admissions               357 non-null    float64\n",
      " 22  weekly_icu_admissions_per_million   357 non-null    float64\n",
      " 23  weekly_hosp_admissions              645 non-null    float64\n",
      " 24  weekly_hosp_admissions_per_million  645 non-null    float64\n",
      " 25  total_tests                         22017 non-null  float64\n",
      " 26  new_tests                           21787 non-null  float64\n",
      " 27  total_tests_per_thousand            22017 non-null  float64\n",
      " 28  new_tests_per_thousand              21787 non-null  float64\n",
      " 29  new_tests_smoothed                  24612 non-null  float64\n",
      " 30  new_tests_smoothed_per_thousand     24612 non-null  float64\n",
      " 31  tests_per_case                      22802 non-null  float64\n",
      " 32  positive_rate                       23211 non-null  float64\n",
      " 33  stringency_index                    47847 non-null  float64\n",
      " 34  population                          57071 non-null  float64\n",
      " 35  population_density                  54371 non-null  float64\n",
      " 36  median_age                          51034 non-null  float64\n",
      " 37  aged_65_older                       50265 non-null  float64\n",
      " 38  aged_70_older                       50768 non-null  float64\n",
      " 39  gdp_per_capita                      50367 non-null  float64\n",
      " 40  extreme_poverty                     33571 non-null  float64\n",
      " 41  cardiovasc_death_rate               51013 non-null  float64\n",
      " 42  diabetes_prevalence                 52881 non-null  float64\n",
      " 43  female_smokers                      39669 non-null  float64\n",
      " 44  male_smokers                        39156 non-null  float64\n",
      " 45  handwashing_facilities              24176 non-null  float64\n",
      " 46  hospital_beds_per_thousand          45936 non-null  float64\n",
      " 47  life_expectancy                     56336 non-null  float64\n",
      " 48  human_development_index             49247 non-null  float64\n",
      "dtypes: float64(45), object(4)\n",
      "memory usage: 21.5+ MB\n"
     ]
    }
   ],
   "source": [
    "df.info()"
   ]
  },
  {
   "cell_type": "code",
   "execution_count": 7,
   "id": "708638f6-000d-4f0f-bef8-6e48b3b5e914",
   "metadata": {
    "tags": []
   },
   "outputs": [
    {
     "data": {
      "text/html": [
       "<div>\n",
       "<style scoped>\n",
       "    .dataframe tbody tr th:only-of-type {\n",
       "        vertical-align: middle;\n",
       "    }\n",
       "\n",
       "    .dataframe tbody tr th {\n",
       "        vertical-align: top;\n",
       "    }\n",
       "\n",
       "    .dataframe thead th {\n",
       "        text-align: right;\n",
       "    }\n",
       "</style>\n",
       "<table border=\"1\" class=\"dataframe\">\n",
       "  <thead>\n",
       "    <tr style=\"text-align: right;\">\n",
       "      <th></th>\n",
       "      <th>total_cases</th>\n",
       "      <th>new_cases</th>\n",
       "      <th>new_cases_smoothed</th>\n",
       "      <th>total_deaths</th>\n",
       "      <th>new_deaths</th>\n",
       "      <th>new_deaths_smoothed</th>\n",
       "      <th>total_cases_per_million</th>\n",
       "      <th>new_cases_per_million</th>\n",
       "      <th>new_cases_smoothed_per_million</th>\n",
       "      <th>total_deaths_per_million</th>\n",
       "      <th>...</th>\n",
       "      <th>gdp_per_capita</th>\n",
       "      <th>extreme_poverty</th>\n",
       "      <th>cardiovasc_death_rate</th>\n",
       "      <th>diabetes_prevalence</th>\n",
       "      <th>female_smokers</th>\n",
       "      <th>male_smokers</th>\n",
       "      <th>handwashing_facilities</th>\n",
       "      <th>hospital_beds_per_thousand</th>\n",
       "      <th>life_expectancy</th>\n",
       "      <th>human_development_index</th>\n",
       "    </tr>\n",
       "  </thead>\n",
       "  <tbody>\n",
       "    <tr>\n",
       "      <th>count</th>\n",
       "      <td>5.375800e+04</td>\n",
       "      <td>56465.000000</td>\n",
       "      <td>55652.000000</td>\n",
       "      <td>4.436800e+04</td>\n",
       "      <td>56465.000000</td>\n",
       "      <td>55652.000000</td>\n",
       "      <td>53471.000000</td>\n",
       "      <td>56401.000000</td>\n",
       "      <td>55587.000000</td>\n",
       "      <td>44096.000000</td>\n",
       "      <td>...</td>\n",
       "      <td>50367.000000</td>\n",
       "      <td>33571.000000</td>\n",
       "      <td>51013.000000</td>\n",
       "      <td>52881.000000</td>\n",
       "      <td>39669.000000</td>\n",
       "      <td>39156.000000</td>\n",
       "      <td>24176.000000</td>\n",
       "      <td>45936.000000</td>\n",
       "      <td>56336.000000</td>\n",
       "      <td>49247.000000</td>\n",
       "    </tr>\n",
       "    <tr>\n",
       "      <th>mean</th>\n",
       "      <td>1.677974e+05</td>\n",
       "      <td>1953.576941</td>\n",
       "      <td>1920.431953</td>\n",
       "      <td>6.858639e+03</td>\n",
       "      <td>47.054317</td>\n",
       "      <td>46.835439</td>\n",
       "      <td>3139.099982</td>\n",
       "      <td>39.344804</td>\n",
       "      <td>38.403211</td>\n",
       "      <td>95.335293</td>\n",
       "      <td>...</td>\n",
       "      <td>20620.172071</td>\n",
       "      <td>12.435453</td>\n",
       "      <td>252.646642</td>\n",
       "      <td>8.070269</td>\n",
       "      <td>10.741569</td>\n",
       "      <td>32.642686</td>\n",
       "      <td>52.089636</td>\n",
       "      <td>3.089724</td>\n",
       "      <td>73.937780</td>\n",
       "      <td>0.722223</td>\n",
       "    </tr>\n",
       "    <tr>\n",
       "      <th>std</th>\n",
       "      <td>1.693038e+06</td>\n",
       "      <td>18269.650340</td>\n",
       "      <td>17777.391785</td>\n",
       "      <td>5.578081e+04</td>\n",
       "      <td>390.853776</td>\n",
       "      <td>378.272794</td>\n",
       "      <td>6183.455260</td>\n",
       "      <td>133.985155</td>\n",
       "      <td>101.649441</td>\n",
       "      <td>180.721699</td>\n",
       "      <td>...</td>\n",
       "      <td>20310.999832</td>\n",
       "      <td>19.427924</td>\n",
       "      <td>117.522344</td>\n",
       "      <td>4.189605</td>\n",
       "      <td>10.470743</td>\n",
       "      <td>13.453566</td>\n",
       "      <td>31.645306</td>\n",
       "      <td>2.513193</td>\n",
       "      <td>7.397016</td>\n",
       "      <td>0.153261</td>\n",
       "    </tr>\n",
       "    <tr>\n",
       "      <th>min</th>\n",
       "      <td>1.000000e+00</td>\n",
       "      <td>-8261.000000</td>\n",
       "      <td>-552.000000</td>\n",
       "      <td>1.000000e+00</td>\n",
       "      <td>-1918.000000</td>\n",
       "      <td>-232.143000</td>\n",
       "      <td>0.001000</td>\n",
       "      <td>-2212.545000</td>\n",
       "      <td>-269.978000</td>\n",
       "      <td>0.000000</td>\n",
       "      <td>...</td>\n",
       "      <td>661.240000</td>\n",
       "      <td>0.100000</td>\n",
       "      <td>79.370000</td>\n",
       "      <td>0.990000</td>\n",
       "      <td>0.100000</td>\n",
       "      <td>7.700000</td>\n",
       "      <td>1.188000</td>\n",
       "      <td>0.100000</td>\n",
       "      <td>53.280000</td>\n",
       "      <td>0.354000</td>\n",
       "    </tr>\n",
       "    <tr>\n",
       "      <th>25%</th>\n",
       "      <td>1.800000e+02</td>\n",
       "      <td>0.000000</td>\n",
       "      <td>0.857000</td>\n",
       "      <td>1.300000e+01</td>\n",
       "      <td>0.000000</td>\n",
       "      <td>0.000000</td>\n",
       "      <td>90.033000</td>\n",
       "      <td>0.000000</td>\n",
       "      <td>0.260000</td>\n",
       "      <td>3.977750</td>\n",
       "      <td>...</td>\n",
       "      <td>5321.444000</td>\n",
       "      <td>0.500000</td>\n",
       "      <td>156.139000</td>\n",
       "      <td>5.310000</td>\n",
       "      <td>1.900000</td>\n",
       "      <td>21.400000</td>\n",
       "      <td>21.222000</td>\n",
       "      <td>1.300000</td>\n",
       "      <td>69.870000</td>\n",
       "      <td>0.601000</td>\n",
       "    </tr>\n",
       "    <tr>\n",
       "      <th>50%</th>\n",
       "      <td>2.070000e+03</td>\n",
       "      <td>14.000000</td>\n",
       "      <td>19.429000</td>\n",
       "      <td>8.400000e+01</td>\n",
       "      <td>0.000000</td>\n",
       "      <td>0.286000</td>\n",
       "      <td>593.663000</td>\n",
       "      <td>2.194000</td>\n",
       "      <td>3.863000</td>\n",
       "      <td>20.383000</td>\n",
       "      <td>...</td>\n",
       "      <td>13913.839000</td>\n",
       "      <td>2.000000</td>\n",
       "      <td>238.339000</td>\n",
       "      <td>7.110000</td>\n",
       "      <td>6.400000</td>\n",
       "      <td>31.400000</td>\n",
       "      <td>52.232000</td>\n",
       "      <td>2.500000</td>\n",
       "      <td>75.345000</td>\n",
       "      <td>0.752000</td>\n",
       "    </tr>\n",
       "    <tr>\n",
       "      <th>75%</th>\n",
       "      <td>2.235675e+04</td>\n",
       "      <td>235.000000</td>\n",
       "      <td>245.286000</td>\n",
       "      <td>7.270000e+02</td>\n",
       "      <td>4.000000</td>\n",
       "      <td>4.000000</td>\n",
       "      <td>3487.050000</td>\n",
       "      <td>25.941000</td>\n",
       "      <td>29.678500</td>\n",
       "      <td>90.571250</td>\n",
       "      <td>...</td>\n",
       "      <td>31400.840000</td>\n",
       "      <td>18.100000</td>\n",
       "      <td>318.991000</td>\n",
       "      <td>10.390000</td>\n",
       "      <td>19.600000</td>\n",
       "      <td>40.900000</td>\n",
       "      <td>83.741000</td>\n",
       "      <td>4.200000</td>\n",
       "      <td>79.380000</td>\n",
       "      <td>0.847000</td>\n",
       "    </tr>\n",
       "    <tr>\n",
       "      <th>max</th>\n",
       "      <td>5.515465e+07</td>\n",
       "      <td>646281.000000</td>\n",
       "      <td>584981.857000</td>\n",
       "      <td>1.328537e+06</td>\n",
       "      <td>10600.000000</td>\n",
       "      <td>9027.714000</td>\n",
       "      <td>76541.772000</td>\n",
       "      <td>8652.658000</td>\n",
       "      <td>2472.188000</td>\n",
       "      <td>1248.014000</td>\n",
       "      <td>...</td>\n",
       "      <td>116935.600000</td>\n",
       "      <td>77.600000</td>\n",
       "      <td>724.417000</td>\n",
       "      <td>30.530000</td>\n",
       "      <td>44.000000</td>\n",
       "      <td>78.100000</td>\n",
       "      <td>98.999000</td>\n",
       "      <td>13.800000</td>\n",
       "      <td>86.750000</td>\n",
       "      <td>0.953000</td>\n",
       "    </tr>\n",
       "  </tbody>\n",
       "</table>\n",
       "<p>8 rows × 45 columns</p>\n",
       "</div>"
      ],
      "text/plain": [
       "        total_cases      new_cases  new_cases_smoothed  total_deaths  \\\n",
       "count  5.375800e+04   56465.000000        55652.000000  4.436800e+04   \n",
       "mean   1.677974e+05    1953.576941         1920.431953  6.858639e+03   \n",
       "std    1.693038e+06   18269.650340        17777.391785  5.578081e+04   \n",
       "min    1.000000e+00   -8261.000000         -552.000000  1.000000e+00   \n",
       "25%    1.800000e+02       0.000000            0.857000  1.300000e+01   \n",
       "50%    2.070000e+03      14.000000           19.429000  8.400000e+01   \n",
       "75%    2.235675e+04     235.000000          245.286000  7.270000e+02   \n",
       "max    5.515465e+07  646281.000000       584981.857000  1.328537e+06   \n",
       "\n",
       "         new_deaths  new_deaths_smoothed  total_cases_per_million  \\\n",
       "count  56465.000000         55652.000000             53471.000000   \n",
       "mean      47.054317            46.835439              3139.099982   \n",
       "std      390.853776           378.272794              6183.455260   \n",
       "min    -1918.000000          -232.143000                 0.001000   \n",
       "25%        0.000000             0.000000                90.033000   \n",
       "50%        0.000000             0.286000               593.663000   \n",
       "75%        4.000000             4.000000              3487.050000   \n",
       "max    10600.000000          9027.714000             76541.772000   \n",
       "\n",
       "       new_cases_per_million  new_cases_smoothed_per_million  \\\n",
       "count           56401.000000                    55587.000000   \n",
       "mean               39.344804                       38.403211   \n",
       "std               133.985155                      101.649441   \n",
       "min             -2212.545000                     -269.978000   \n",
       "25%                 0.000000                        0.260000   \n",
       "50%                 2.194000                        3.863000   \n",
       "75%                25.941000                       29.678500   \n",
       "max              8652.658000                     2472.188000   \n",
       "\n",
       "       total_deaths_per_million  ...  gdp_per_capita  extreme_poverty  \\\n",
       "count              44096.000000  ...    50367.000000     33571.000000   \n",
       "mean                  95.335293  ...    20620.172071        12.435453   \n",
       "std                  180.721699  ...    20310.999832        19.427924   \n",
       "min                    0.000000  ...      661.240000         0.100000   \n",
       "25%                    3.977750  ...     5321.444000         0.500000   \n",
       "50%                   20.383000  ...    13913.839000         2.000000   \n",
       "75%                   90.571250  ...    31400.840000        18.100000   \n",
       "max                 1248.014000  ...   116935.600000        77.600000   \n",
       "\n",
       "       cardiovasc_death_rate  diabetes_prevalence  female_smokers  \\\n",
       "count           51013.000000         52881.000000    39669.000000   \n",
       "mean              252.646642             8.070269       10.741569   \n",
       "std               117.522344             4.189605       10.470743   \n",
       "min                79.370000             0.990000        0.100000   \n",
       "25%               156.139000             5.310000        1.900000   \n",
       "50%               238.339000             7.110000        6.400000   \n",
       "75%               318.991000            10.390000       19.600000   \n",
       "max               724.417000            30.530000       44.000000   \n",
       "\n",
       "       male_smokers  handwashing_facilities  hospital_beds_per_thousand  \\\n",
       "count  39156.000000            24176.000000                45936.000000   \n",
       "mean      32.642686               52.089636                    3.089724   \n",
       "std       13.453566               31.645306                    2.513193   \n",
       "min        7.700000                1.188000                    0.100000   \n",
       "25%       21.400000               21.222000                    1.300000   \n",
       "50%       31.400000               52.232000                    2.500000   \n",
       "75%       40.900000               83.741000                    4.200000   \n",
       "max       78.100000               98.999000                   13.800000   \n",
       "\n",
       "       life_expectancy  human_development_index  \n",
       "count     56336.000000             49247.000000  \n",
       "mean         73.937780                 0.722223  \n",
       "std           7.397016                 0.153261  \n",
       "min          53.280000                 0.354000  \n",
       "25%          69.870000                 0.601000  \n",
       "50%          75.345000                 0.752000  \n",
       "75%          79.380000                 0.847000  \n",
       "max          86.750000                 0.953000  \n",
       "\n",
       "[8 rows x 45 columns]"
      ]
     },
     "execution_count": 7,
     "metadata": {},
     "output_type": "execute_result"
    }
   ],
   "source": [
    "df.describe()"
   ]
  },
  {
   "cell_type": "markdown",
   "id": "1b0d9004-356f-43fe-914c-32330f18e982",
   "metadata": {},
   "source": [
    "# 3. Low Level Data Understanding : "
   ]
  },
  {
   "cell_type": "markdown",
   "id": "a6ea92ff-62a4-406b-ad7c-abc7deb1111e",
   "metadata": {},
   "source": [
    "## a. Find count of unique values in location column. "
   ]
  },
  {
   "cell_type": "code",
   "execution_count": 8,
   "id": "c9ec8973-db03-46ca-a088-0d7ce8453f77",
   "metadata": {},
   "outputs": [
    {
     "name": "stdout",
     "output_type": "stream",
     "text": [
      "the count of unique values in location column is 216.\n"
     ]
    }
   ],
   "source": [
    "count_unique = df.location.unique().size\n",
    "print(f\"the count of unique values in location column is {count_unique}.\")"
   ]
  },
  {
   "cell_type": "markdown",
   "id": "857426d9-54a2-4ca0-b0df-4674269e2b97",
   "metadata": {},
   "source": [
    "## b. Find which continent has maximum frequency using values counts. "
   ]
  },
  {
   "cell_type": "code",
   "execution_count": 9,
   "id": "8c100109-ea92-45c8-b760-3c2dd4050606",
   "metadata": {},
   "outputs": [
    {
     "name": "stdout",
     "output_type": "stream",
     "text": [
      "the continent with maximum frequency is 'Europe'.\n"
     ]
    }
   ],
   "source": [
    "max_freq_conti = df.continent.value_counts().index[0]\n",
    "print(f\"the continent with maximum frequency is '{max_freq_conti}'.\")"
   ]
  },
  {
   "cell_type": "markdown",
   "id": "9db594f8-0c3d-4add-81b5-948b3581bfce",
   "metadata": {},
   "source": [
    "## c. Find maximum & mean value in 'total_cases'. "
   ]
  },
  {
   "cell_type": "code",
   "execution_count": 10,
   "id": "7ef887a7-0f49-41c0-ad5c-4ec87a18852c",
   "metadata": {},
   "outputs": [
    {
     "name": "stdout",
     "output_type": "stream",
     "text": [
      "maximum value in total_cases is 55154651.0,\n",
      "and mean value of total_cases col is 167797.3688753302\n"
     ]
    }
   ],
   "source": [
    "total_cases_max = df.total_cases.max()\n",
    "total_cases_mean = df.total_cases.mean()\n",
    "print(f\"maximum value in total_cases is {total_cases_max},\\nand mean value of total_cases col is {total_cases_mean}\")"
   ]
  },
  {
   "cell_type": "markdown",
   "id": "95887bf5-af75-448e-bfaa-65dd2e8a8cb8",
   "metadata": {},
   "source": [
    "## d. Find 25%,50% & 75% quartile value in 'total_deaths'. "
   ]
  },
  {
   "cell_type": "code",
   "execution_count": 11,
   "id": "b3cdd6d4-305a-4879-8f2f-df5d46fae977",
   "metadata": {},
   "outputs": [],
   "source": [
    "qua_total_deaths = df['total_deaths'].quantile([0.25,0.50,0.75])"
   ]
  },
  {
   "cell_type": "code",
   "execution_count": 12,
   "id": "96deb508-0841-4310-a4c7-f2079f55130d",
   "metadata": {},
   "outputs": [
    {
     "name": "stdout",
     "output_type": "stream",
     "text": [
      "25% quartile value in 'total_deaths' is 13.0\n",
      "50% quartile value in 'total_deaths' is 84.0\n",
      "75% quartile value in 'total_deaths' is 727.0\n"
     ]
    }
   ],
   "source": [
    "print(f\"25% quartile value in 'total_deaths' is {qua_total_deaths[0.25]}\")\n",
    "print(f\"50% quartile value in 'total_deaths' is {qua_total_deaths[0.50]}\")\n",
    "print(f\"75% quartile value in 'total_deaths' is {qua_total_deaths[0.75]}\")"
   ]
  },
  {
   "cell_type": "markdown",
   "id": "d558fce1-a9f4-493e-926b-7b73291ce7f5",
   "metadata": {},
   "source": [
    "## e. Find which continent has maximum 'human_development_index'. "
   ]
  },
  {
   "cell_type": "code",
   "execution_count": 13,
   "id": "9fc644fc-6033-4687-8989-ac7ac7a7157f",
   "metadata": {},
   "outputs": [
    {
     "data": {
      "text/html": [
       "<div>\n",
       "<style scoped>\n",
       "    .dataframe tbody tr th:only-of-type {\n",
       "        vertical-align: middle;\n",
       "    }\n",
       "\n",
       "    .dataframe tbody tr th {\n",
       "        vertical-align: top;\n",
       "    }\n",
       "\n",
       "    .dataframe thead th {\n",
       "        text-align: right;\n",
       "    }\n",
       "</style>\n",
       "<table border=\"1\" class=\"dataframe\">\n",
       "  <thead>\n",
       "    <tr style=\"text-align: right;\">\n",
       "      <th></th>\n",
       "      <th>total_cases</th>\n",
       "      <th>new_cases</th>\n",
       "      <th>new_cases_smoothed</th>\n",
       "      <th>total_deaths</th>\n",
       "      <th>new_deaths</th>\n",
       "      <th>new_deaths_smoothed</th>\n",
       "      <th>total_cases_per_million</th>\n",
       "      <th>new_cases_per_million</th>\n",
       "      <th>new_cases_smoothed_per_million</th>\n",
       "      <th>total_deaths_per_million</th>\n",
       "      <th>...</th>\n",
       "      <th>gdp_per_capita</th>\n",
       "      <th>extreme_poverty</th>\n",
       "      <th>cardiovasc_death_rate</th>\n",
       "      <th>diabetes_prevalence</th>\n",
       "      <th>female_smokers</th>\n",
       "      <th>male_smokers</th>\n",
       "      <th>handwashing_facilities</th>\n",
       "      <th>hospital_beds_per_thousand</th>\n",
       "      <th>life_expectancy</th>\n",
       "      <th>human_development_index</th>\n",
       "    </tr>\n",
       "    <tr>\n",
       "      <th>continent</th>\n",
       "      <th></th>\n",
       "      <th></th>\n",
       "      <th></th>\n",
       "      <th></th>\n",
       "      <th></th>\n",
       "      <th></th>\n",
       "      <th></th>\n",
       "      <th></th>\n",
       "      <th></th>\n",
       "      <th></th>\n",
       "      <th></th>\n",
       "      <th></th>\n",
       "      <th></th>\n",
       "      <th></th>\n",
       "      <th></th>\n",
       "      <th></th>\n",
       "      <th></th>\n",
       "      <th></th>\n",
       "      <th></th>\n",
       "      <th></th>\n",
       "      <th></th>\n",
       "    </tr>\n",
       "  </thead>\n",
       "  <tbody>\n",
       "    <tr>\n",
       "      <th>Africa</th>\n",
       "      <td>1.882844e+08</td>\n",
       "      <td>1986273.0</td>\n",
       "      <td>1.947518e+06</td>\n",
       "      <td>4502121.0</td>\n",
       "      <td>47627.0</td>\n",
       "      <td>46802.772</td>\n",
       "      <td>1.101118e+07</td>\n",
       "      <td>117074.690</td>\n",
       "      <td>114829.530</td>\n",
       "      <td>182033.392</td>\n",
       "      <td>...</td>\n",
       "      <td>7.392128e+07</td>\n",
       "      <td>337793.5</td>\n",
       "      <td>3864009.008</td>\n",
       "      <td>76395.94</td>\n",
       "      <td>22869.8</td>\n",
       "      <td>248035.6</td>\n",
       "      <td>289211.403</td>\n",
       "      <td>15093.200</td>\n",
       "      <td>877906.44</td>\n",
       "      <td>7222.777</td>\n",
       "    </tr>\n",
       "    <tr>\n",
       "      <th>Asia</th>\n",
       "      <td>1.252190e+09</td>\n",
       "      <td>15218810.0</td>\n",
       "      <td>1.495026e+07</td>\n",
       "      <td>24760965.0</td>\n",
       "      <td>268276.0</td>\n",
       "      <td>263696.119</td>\n",
       "      <td>4.081723e+07</td>\n",
       "      <td>443815.148</td>\n",
       "      <td>433209.082</td>\n",
       "      <td>379339.696</td>\n",
       "      <td>...</td>\n",
       "      <td>3.011561e+08</td>\n",
       "      <td>43458.9</td>\n",
       "      <td>3826120.033</td>\n",
       "      <td>122542.15</td>\n",
       "      <td>53750.3</td>\n",
       "      <td>444723.5</td>\n",
       "      <td>507831.582</td>\n",
       "      <td>36387.950</td>\n",
       "      <td>1010210.57</td>\n",
       "      <td>9661.617</td>\n",
       "    </tr>\n",
       "    <tr>\n",
       "      <th>Europe</th>\n",
       "      <td>8.666655e+08</td>\n",
       "      <td>14202718.0</td>\n",
       "      <td>1.343684e+07</td>\n",
       "      <td>44123814.0</td>\n",
       "      <td>326779.0</td>\n",
       "      <td>314904.193</td>\n",
       "      <td>6.518906e+07</td>\n",
       "      <td>1033767.375</td>\n",
       "      <td>977168.660</td>\n",
       "      <td>2238341.887</td>\n",
       "      <td>...</td>\n",
       "      <td>4.313814e+08</td>\n",
       "      <td>8258.2</td>\n",
       "      <td>2739397.853</td>\n",
       "      <td>84363.60</td>\n",
       "      <td>277937.7</td>\n",
       "      <td>416664.4</td>\n",
       "      <td>72484.269</td>\n",
       "      <td>66457.798</td>\n",
       "      <td>1126328.37</td>\n",
       "      <td>10817.325</td>\n",
       "    </tr>\n",
       "    <tr>\n",
       "      <th>North America</th>\n",
       "      <td>1.220693e+09</td>\n",
       "      <td>13318658.0</td>\n",
       "      <td>1.279867e+07</td>\n",
       "      <td>46596038.0</td>\n",
       "      <td>373861.0</td>\n",
       "      <td>368772.587</td>\n",
       "      <td>2.849200e+07</td>\n",
       "      <td>342361.423</td>\n",
       "      <td>333694.652</td>\n",
       "      <td>737827.700</td>\n",
       "      <td>...</td>\n",
       "      <td>1.536159e+08</td>\n",
       "      <td>16168.3</td>\n",
       "      <td>1311219.320</td>\n",
       "      <td>85624.28</td>\n",
       "      <td>25864.6</td>\n",
       "      <td>72460.1</td>\n",
       "      <td>262220.029</td>\n",
       "      <td>13718.000</td>\n",
       "      <td>699208.91</td>\n",
       "      <td>4494.381</td>\n",
       "    </tr>\n",
       "    <tr>\n",
       "      <th>Oceania</th>\n",
       "      <td>4.822128e+06</td>\n",
       "      <td>48015.0</td>\n",
       "      <td>4.736779e+04</td>\n",
       "      <td>103768.0</td>\n",
       "      <td>1094.0</td>\n",
       "      <td>1087.763</td>\n",
       "      <td>3.404049e+06</td>\n",
       "      <td>81501.617</td>\n",
       "      <td>78678.950</td>\n",
       "      <td>47279.105</td>\n",
       "      <td>...</td>\n",
       "      <td>2.972208e+07</td>\n",
       "      <td>1492.4</td>\n",
       "      <td>484408.064</td>\n",
       "      <td>30501.22</td>\n",
       "      <td>17674.6</td>\n",
       "      <td>33132.6</td>\n",
       "      <td>3010.873</td>\n",
       "      <td>2857.450</td>\n",
       "      <td>170890.98</td>\n",
       "      <td>984.648</td>\n",
       "    </tr>\n",
       "    <tr>\n",
       "      <th>South America</th>\n",
       "      <td>9.757325e+08</td>\n",
       "      <td>10378901.0</td>\n",
       "      <td>1.023942e+07</td>\n",
       "      <td>32015824.0</td>\n",
       "      <td>310741.0</td>\n",
       "      <td>307689.113</td>\n",
       "      <td>1.835846e+07</td>\n",
       "      <td>193490.207</td>\n",
       "      <td>190280.629</td>\n",
       "      <td>599557.497</td>\n",
       "      <td>...</td>\n",
       "      <td>4.378286e+07</td>\n",
       "      <td>7069.3</td>\n",
       "      <td>587827.252</td>\n",
       "      <td>24587.99</td>\n",
       "      <td>25932.1</td>\n",
       "      <td>51953.7</td>\n",
       "      <td>105138.895</td>\n",
       "      <td>6541.440</td>\n",
       "      <td>257370.18</td>\n",
       "      <td>2386.556</td>\n",
       "    </tr>\n",
       "  </tbody>\n",
       "</table>\n",
       "<p>6 rows × 45 columns</p>\n",
       "</div>"
      ],
      "text/plain": [
       "                total_cases   new_cases  new_cases_smoothed  total_deaths  \\\n",
       "continent                                                                   \n",
       "Africa         1.882844e+08   1986273.0        1.947518e+06     4502121.0   \n",
       "Asia           1.252190e+09  15218810.0        1.495026e+07    24760965.0   \n",
       "Europe         8.666655e+08  14202718.0        1.343684e+07    44123814.0   \n",
       "North America  1.220693e+09  13318658.0        1.279867e+07    46596038.0   \n",
       "Oceania        4.822128e+06     48015.0        4.736779e+04      103768.0   \n",
       "South America  9.757325e+08  10378901.0        1.023942e+07    32015824.0   \n",
       "\n",
       "               new_deaths  new_deaths_smoothed  total_cases_per_million  \\\n",
       "continent                                                                 \n",
       "Africa            47627.0            46802.772             1.101118e+07   \n",
       "Asia             268276.0           263696.119             4.081723e+07   \n",
       "Europe           326779.0           314904.193             6.518906e+07   \n",
       "North America    373861.0           368772.587             2.849200e+07   \n",
       "Oceania            1094.0             1087.763             3.404049e+06   \n",
       "South America    310741.0           307689.113             1.835846e+07   \n",
       "\n",
       "               new_cases_per_million  new_cases_smoothed_per_million  \\\n",
       "continent                                                              \n",
       "Africa                    117074.690                      114829.530   \n",
       "Asia                      443815.148                      433209.082   \n",
       "Europe                   1033767.375                      977168.660   \n",
       "North America             342361.423                      333694.652   \n",
       "Oceania                    81501.617                       78678.950   \n",
       "South America             193490.207                      190280.629   \n",
       "\n",
       "               total_deaths_per_million  ...  gdp_per_capita  extreme_poverty  \\\n",
       "continent                                ...                                    \n",
       "Africa                       182033.392  ...    7.392128e+07         337793.5   \n",
       "Asia                         379339.696  ...    3.011561e+08          43458.9   \n",
       "Europe                      2238341.887  ...    4.313814e+08           8258.2   \n",
       "North America                737827.700  ...    1.536159e+08          16168.3   \n",
       "Oceania                       47279.105  ...    2.972208e+07           1492.4   \n",
       "South America                599557.497  ...    4.378286e+07           7069.3   \n",
       "\n",
       "               cardiovasc_death_rate  diabetes_prevalence  female_smokers  \\\n",
       "continent                                                                   \n",
       "Africa                   3864009.008             76395.94         22869.8   \n",
       "Asia                     3826120.033            122542.15         53750.3   \n",
       "Europe                   2739397.853             84363.60        277937.7   \n",
       "North America            1311219.320             85624.28         25864.6   \n",
       "Oceania                   484408.064             30501.22         17674.6   \n",
       "South America             587827.252             24587.99         25932.1   \n",
       "\n",
       "               male_smokers  handwashing_facilities  \\\n",
       "continent                                             \n",
       "Africa             248035.6              289211.403   \n",
       "Asia               444723.5              507831.582   \n",
       "Europe             416664.4               72484.269   \n",
       "North America       72460.1              262220.029   \n",
       "Oceania             33132.6                3010.873   \n",
       "South America       51953.7              105138.895   \n",
       "\n",
       "               hospital_beds_per_thousand  life_expectancy  \\\n",
       "continent                                                    \n",
       "Africa                          15093.200        877906.44   \n",
       "Asia                            36387.950       1010210.57   \n",
       "Europe                          66457.798       1126328.37   \n",
       "North America                   13718.000        699208.91   \n",
       "Oceania                          2857.450        170890.98   \n",
       "South America                    6541.440        257370.18   \n",
       "\n",
       "               human_development_index  \n",
       "continent                               \n",
       "Africa                        7222.777  \n",
       "Asia                          9661.617  \n",
       "Europe                       10817.325  \n",
       "North America                 4494.381  \n",
       "Oceania                        984.648  \n",
       "South America                 2386.556  \n",
       "\n",
       "[6 rows x 45 columns]"
      ]
     },
     "execution_count": 13,
     "metadata": {},
     "output_type": "execute_result"
    }
   ],
   "source": [
    "groupby_continent = df.groupby(\"continent\").sum()\n",
    "groupby_continent"
   ]
  },
  {
   "cell_type": "code",
   "execution_count": 14,
   "id": "35ea2494-e61b-4112-bad9-1dcc84293179",
   "metadata": {},
   "outputs": [
    {
     "name": "stdout",
     "output_type": "stream",
     "text": [
      "The continent with maximum 'human_development_index' is Europe.\n"
     ]
    }
   ],
   "source": [
    "continent_with_max_hdi = groupby_continent.human_development_index.idxmax()\n",
    "print(f\"The continent with maximum 'human_development_index' is {continent_with_max_hdi}.\")"
   ]
  },
  {
   "cell_type": "markdown",
   "id": "b046170d-cf9a-4311-88d0-6e075cf4ab68",
   "metadata": {},
   "source": [
    "## f. Find which continent has minimum 'gdp_per_capita'. "
   ]
  },
  {
   "cell_type": "code",
   "execution_count": 15,
   "id": "232d2d0a-0d77-4660-937a-171599cd76e2",
   "metadata": {},
   "outputs": [
    {
     "name": "stdout",
     "output_type": "stream",
     "text": [
      "The continent with minimum 'gdp_per_capita' is Oceania.\n"
     ]
    }
   ],
   "source": [
    "continent_with_min_gdp = groupby_continent.gdp_per_capita.idxmin()\n",
    "print(f\"The continent with minimum 'gdp_per_capita' is {continent_with_min_gdp}.\")"
   ]
  },
  {
   "cell_type": "markdown",
   "id": "38ea4e56-473e-4a37-882e-0cda474a407f",
   "metadata": {},
   "source": [
    "# 4. Filter the dataframe with only this columns \n",
    "### 'continent','location','date','total_cases','total_deaths','gdp_per_capita',' human_development_index'] and update the data frame. "
   ]
  },
  {
   "cell_type": "code",
   "execution_count": 16,
   "id": "a6ef9eb6-860c-444d-82aa-d8cf6210eee4",
   "metadata": {},
   "outputs": [],
   "source": [
    "df = df[['continent', 'location', 'date', 'total_cases', \n",
    "            'total_deaths', 'gdp_per_capita', 'human_development_index']]"
   ]
  },
  {
   "cell_type": "code",
   "execution_count": 17,
   "id": "020b93b2-0104-44f1-af6c-10855d382e1f",
   "metadata": {},
   "outputs": [
    {
     "data": {
      "text/plain": [
       "Index(['continent', 'location', 'date', 'total_cases', 'total_deaths',\n",
       "       'gdp_per_capita', 'human_development_index'],\n",
       "      dtype='object')"
      ]
     },
     "execution_count": 17,
     "metadata": {},
     "output_type": "execute_result"
    }
   ],
   "source": [
    "df.columns"
   ]
  },
  {
   "cell_type": "markdown",
   "id": "7d251a80-7a0c-42c2-be1f-3577c37db69f",
   "metadata": {},
   "source": [
    "# 5. Data Cleaning "
   ]
  },
  {
   "cell_type": "markdown",
   "id": "abb25890-2a89-4791-87a2-a4bd263af605",
   "metadata": {},
   "source": [
    "## a. Remove all duplicates observations "
   ]
  },
  {
   "cell_type": "code",
   "execution_count": 18,
   "id": "d268beaf-c506-41d0-a07c-5d6e6ffc561c",
   "metadata": {},
   "outputs": [
    {
     "name": "stdout",
     "output_type": "stream",
     "text": [
      "before drop: (57394, 7)\n",
      "after drop: (57394, 7)\n"
     ]
    }
   ],
   "source": [
    "print(f\"before drop: {df.shape}\")\n",
    "df = df.drop_duplicates()\n",
    "print(f\"after drop: {df.shape}\")"
   ]
  },
  {
   "cell_type": "markdown",
   "id": "1d1ae7c7-ce51-4964-89c1-ceb27c334c9c",
   "metadata": {},
   "source": [
    "## b. Find missing values in all columns "
   ]
  },
  {
   "cell_type": "code",
   "execution_count": 19,
   "id": "d113c7dd-39db-41f1-bf2f-c3aae51aac8b",
   "metadata": {},
   "outputs": [
    {
     "data": {
      "text/plain": [
       "continent                    646\n",
       "location                       0\n",
       "date                           0\n",
       "total_cases                 3636\n",
       "total_deaths               13026\n",
       "gdp_per_capita              7027\n",
       "human_development_index     8147\n",
       "dtype: int64"
      ]
     },
     "execution_count": 19,
     "metadata": {},
     "output_type": "execute_result"
    }
   ],
   "source": [
    "df.isna().sum()"
   ]
  },
  {
   "cell_type": "markdown",
   "id": "b1f5398a-8e4f-4d37-8559-10a807413edc",
   "metadata": {},
   "source": [
    "## c. Remove all observations where continent column value is missing Tip : using subset parameter in dropna "
   ]
  },
  {
   "cell_type": "code",
   "execution_count": 20,
   "id": "02054201-2ee9-43c7-9352-e535f9f7344e",
   "metadata": {},
   "outputs": [
    {
     "name": "stdout",
     "output_type": "stream",
     "text": [
      "before drop: (57394, 7)\n",
      "after drop: (56748, 7)\n"
     ]
    }
   ],
   "source": [
    "print(f\"before drop: {df.shape}\")\n",
    "df = df.dropna(subset=\"continent\")\n",
    "print(f\"after drop: {df.shape}\")"
   ]
  },
  {
   "cell_type": "markdown",
   "id": "f80cffcf-242c-47ad-9131-dfdfc4159cce",
   "metadata": {},
   "source": [
    "## d. Fill all missing values with 0"
   ]
  },
  {
   "cell_type": "code",
   "execution_count": 21,
   "id": "e48038d5-9a5b-46a2-9d4e-2e4d5f725054",
   "metadata": {},
   "outputs": [
    {
     "data": {
      "text/plain": [
       "continent                  0\n",
       "location                   0\n",
       "date                       0\n",
       "total_cases                0\n",
       "total_deaths               0\n",
       "gdp_per_capita             0\n",
       "human_development_index    0\n",
       "dtype: int64"
      ]
     },
     "execution_count": 21,
     "metadata": {},
     "output_type": "execute_result"
    }
   ],
   "source": [
    "df = df.fillna(0)\n",
    "df.isna().sum()"
   ]
  },
  {
   "cell_type": "markdown",
   "id": "a70a33ea-a0a5-436a-ac5f-a8bc129de544",
   "metadata": {},
   "source": [
    "# 6. Date time format : "
   ]
  },
  {
   "cell_type": "markdown",
   "id": "94d9f86d-f1df-4933-a16b-e96fe8467994",
   "metadata": {},
   "source": [
    "## a. Convert date column in datetime format using pandas.to_datetime"
   ]
  },
  {
   "cell_type": "code",
   "execution_count": 22,
   "id": "d7f820c0-7e70-4c58-be47-72a508702cb1",
   "metadata": {},
   "outputs": [
    {
     "name": "stdout",
     "output_type": "stream",
     "text": [
      "before to_datetime: object\n",
      "after to_datetime: datetime64[ns]\n"
     ]
    }
   ],
   "source": [
    "print(f\"before to_datetime: {df.date.dtype}\")\n",
    "df.date = pd.to_datetime(df.date)\n",
    "print(f\"after to_datetime: {df.date.dtype}\")"
   ]
  },
  {
   "cell_type": "markdown",
   "id": "4c727d00-25c3-4b1b-83de-88da798d67a4",
   "metadata": {},
   "source": [
    "## b. Create new column month after extracting month data from date column. "
   ]
  },
  {
   "cell_type": "code",
   "execution_count": 23,
   "id": "b69abb0a-2ad3-4245-b838-0eaef88f8961",
   "metadata": {},
   "outputs": [
    {
     "data": {
      "text/html": [
       "<div>\n",
       "<style scoped>\n",
       "    .dataframe tbody tr th:only-of-type {\n",
       "        vertical-align: middle;\n",
       "    }\n",
       "\n",
       "    .dataframe tbody tr th {\n",
       "        vertical-align: top;\n",
       "    }\n",
       "\n",
       "    .dataframe thead th {\n",
       "        text-align: right;\n",
       "    }\n",
       "</style>\n",
       "<table border=\"1\" class=\"dataframe\">\n",
       "  <thead>\n",
       "    <tr style=\"text-align: right;\">\n",
       "      <th></th>\n",
       "      <th>continent</th>\n",
       "      <th>location</th>\n",
       "      <th>date</th>\n",
       "      <th>total_cases</th>\n",
       "      <th>total_deaths</th>\n",
       "      <th>gdp_per_capita</th>\n",
       "      <th>human_development_index</th>\n",
       "      <th>month</th>\n",
       "    </tr>\n",
       "  </thead>\n",
       "  <tbody>\n",
       "    <tr>\n",
       "      <th>0</th>\n",
       "      <td>Asia</td>\n",
       "      <td>Afghanistan</td>\n",
       "      <td>2019-12-31</td>\n",
       "      <td>0.0</td>\n",
       "      <td>0.0</td>\n",
       "      <td>1803.987</td>\n",
       "      <td>0.498</td>\n",
       "      <td>12</td>\n",
       "    </tr>\n",
       "    <tr>\n",
       "      <th>1</th>\n",
       "      <td>Asia</td>\n",
       "      <td>Afghanistan</td>\n",
       "      <td>2020-01-01</td>\n",
       "      <td>0.0</td>\n",
       "      <td>0.0</td>\n",
       "      <td>1803.987</td>\n",
       "      <td>0.498</td>\n",
       "      <td>1</td>\n",
       "    </tr>\n",
       "    <tr>\n",
       "      <th>2</th>\n",
       "      <td>Asia</td>\n",
       "      <td>Afghanistan</td>\n",
       "      <td>2020-02-01</td>\n",
       "      <td>0.0</td>\n",
       "      <td>0.0</td>\n",
       "      <td>1803.987</td>\n",
       "      <td>0.498</td>\n",
       "      <td>2</td>\n",
       "    </tr>\n",
       "    <tr>\n",
       "      <th>3</th>\n",
       "      <td>Asia</td>\n",
       "      <td>Afghanistan</td>\n",
       "      <td>2020-03-01</td>\n",
       "      <td>0.0</td>\n",
       "      <td>0.0</td>\n",
       "      <td>1803.987</td>\n",
       "      <td>0.498</td>\n",
       "      <td>3</td>\n",
       "    </tr>\n",
       "    <tr>\n",
       "      <th>4</th>\n",
       "      <td>Asia</td>\n",
       "      <td>Afghanistan</td>\n",
       "      <td>2020-04-01</td>\n",
       "      <td>0.0</td>\n",
       "      <td>0.0</td>\n",
       "      <td>1803.987</td>\n",
       "      <td>0.498</td>\n",
       "      <td>4</td>\n",
       "    </tr>\n",
       "  </tbody>\n",
       "</table>\n",
       "</div>"
      ],
      "text/plain": [
       "  continent     location       date  total_cases  total_deaths  \\\n",
       "0      Asia  Afghanistan 2019-12-31          0.0           0.0   \n",
       "1      Asia  Afghanistan 2020-01-01          0.0           0.0   \n",
       "2      Asia  Afghanistan 2020-02-01          0.0           0.0   \n",
       "3      Asia  Afghanistan 2020-03-01          0.0           0.0   \n",
       "4      Asia  Afghanistan 2020-04-01          0.0           0.0   \n",
       "\n",
       "   gdp_per_capita  human_development_index  month  \n",
       "0        1803.987                    0.498     12  \n",
       "1        1803.987                    0.498      1  \n",
       "2        1803.987                    0.498      2  \n",
       "3        1803.987                    0.498      3  \n",
       "4        1803.987                    0.498      4  "
      ]
     },
     "execution_count": 23,
     "metadata": {},
     "output_type": "execute_result"
    }
   ],
   "source": [
    "df[\"month\"] = df.date.dt.month\n",
    "df.head()"
   ]
  },
  {
   "cell_type": "markdown",
   "id": "6308d254-0607-4f6c-88f4-fc238d4fd9eb",
   "metadata": {},
   "source": [
    "# 7. Data Aggregation: "
   ]
  },
  {
   "cell_type": "markdown",
   "id": "b9bb0fe7-57bb-4a11-8280-d527a8d36ca9",
   "metadata": {},
   "source": [
    "## a. Find max value in all columns using groupby function on 'continent' column Tip: use reset_index() after applying groupby"
   ]
  },
  {
   "cell_type": "code",
   "execution_count": 24,
   "id": "02ad509d-1bd2-426d-bcc4-c3bcb4872e9a",
   "metadata": {},
   "outputs": [
    {
     "data": {
      "text/html": [
       "<div>\n",
       "<style scoped>\n",
       "    .dataframe tbody tr th:only-of-type {\n",
       "        vertical-align: middle;\n",
       "    }\n",
       "\n",
       "    .dataframe tbody tr th {\n",
       "        vertical-align: top;\n",
       "    }\n",
       "\n",
       "    .dataframe thead th {\n",
       "        text-align: right;\n",
       "    }\n",
       "</style>\n",
       "<table border=\"1\" class=\"dataframe\">\n",
       "  <thead>\n",
       "    <tr style=\"text-align: right;\">\n",
       "      <th></th>\n",
       "      <th>continent</th>\n",
       "      <th>location</th>\n",
       "      <th>date</th>\n",
       "      <th>total_cases</th>\n",
       "      <th>total_deaths</th>\n",
       "      <th>gdp_per_capita</th>\n",
       "      <th>human_development_index</th>\n",
       "      <th>month</th>\n",
       "    </tr>\n",
       "  </thead>\n",
       "  <tbody>\n",
       "    <tr>\n",
       "      <th>0</th>\n",
       "      <td>Africa</td>\n",
       "      <td>Zimbabwe</td>\n",
       "      <td>2020-12-11</td>\n",
       "      <td>752269.0</td>\n",
       "      <td>20314.0</td>\n",
       "      <td>26382.287</td>\n",
       "      <td>0.797</td>\n",
       "      <td>12</td>\n",
       "    </tr>\n",
       "    <tr>\n",
       "      <th>1</th>\n",
       "      <td>Asia</td>\n",
       "      <td>Yemen</td>\n",
       "      <td>2020-12-11</td>\n",
       "      <td>8874290.0</td>\n",
       "      <td>130519.0</td>\n",
       "      <td>116935.600</td>\n",
       "      <td>0.933</td>\n",
       "      <td>12</td>\n",
       "    </tr>\n",
       "    <tr>\n",
       "      <th>2</th>\n",
       "      <td>Europe</td>\n",
       "      <td>Vatican</td>\n",
       "      <td>2020-12-11</td>\n",
       "      <td>1991233.0</td>\n",
       "      <td>52147.0</td>\n",
       "      <td>94277.965</td>\n",
       "      <td>0.953</td>\n",
       "      <td>12</td>\n",
       "    </tr>\n",
       "    <tr>\n",
       "      <th>3</th>\n",
       "      <td>North America</td>\n",
       "      <td>United States Virgin Islands</td>\n",
       "      <td>2020-12-11</td>\n",
       "      <td>11205486.0</td>\n",
       "      <td>247220.0</td>\n",
       "      <td>54225.446</td>\n",
       "      <td>0.926</td>\n",
       "      <td>12</td>\n",
       "    </tr>\n",
       "    <tr>\n",
       "      <th>4</th>\n",
       "      <td>Oceania</td>\n",
       "      <td>Wallis and Futuna</td>\n",
       "      <td>2020-12-11</td>\n",
       "      <td>27750.0</td>\n",
       "      <td>907.0</td>\n",
       "      <td>44648.710</td>\n",
       "      <td>0.939</td>\n",
       "      <td>12</td>\n",
       "    </tr>\n",
       "    <tr>\n",
       "      <th>5</th>\n",
       "      <td>South America</td>\n",
       "      <td>Venezuela</td>\n",
       "      <td>2020-12-11</td>\n",
       "      <td>5876464.0</td>\n",
       "      <td>166014.0</td>\n",
       "      <td>22767.037</td>\n",
       "      <td>0.843</td>\n",
       "      <td>12</td>\n",
       "    </tr>\n",
       "  </tbody>\n",
       "</table>\n",
       "</div>"
      ],
      "text/plain": [
       "       continent                      location       date  total_cases  \\\n",
       "0         Africa                      Zimbabwe 2020-12-11     752269.0   \n",
       "1           Asia                         Yemen 2020-12-11    8874290.0   \n",
       "2         Europe                       Vatican 2020-12-11    1991233.0   \n",
       "3  North America  United States Virgin Islands 2020-12-11   11205486.0   \n",
       "4        Oceania             Wallis and Futuna 2020-12-11      27750.0   \n",
       "5  South America                     Venezuela 2020-12-11    5876464.0   \n",
       "\n",
       "   total_deaths  gdp_per_capita  human_development_index  month  \n",
       "0       20314.0       26382.287                    0.797     12  \n",
       "1      130519.0      116935.600                    0.933     12  \n",
       "2       52147.0       94277.965                    0.953     12  \n",
       "3      247220.0       54225.446                    0.926     12  \n",
       "4         907.0       44648.710                    0.939     12  \n",
       "5      166014.0       22767.037                    0.843     12  "
      ]
     },
     "execution_count": 24,
     "metadata": {},
     "output_type": "execute_result"
    }
   ],
   "source": [
    "df.groupby(\"continent\").max().reset_index()"
   ]
  },
  {
   "cell_type": "markdown",
   "id": "61141e2c-8dd6-48c0-b93c-bd456bfef367",
   "metadata": {},
   "source": [
    "## b. Store the result in a new dataframe named 'df_groupby'. (Use df_groupby dataframe for all further analysis) "
   ]
  },
  {
   "cell_type": "code",
   "execution_count": 25,
   "id": "853d4b25-6449-4032-944f-cf7ec99c0afb",
   "metadata": {},
   "outputs": [],
   "source": [
    "df_groupby = df.groupby(\"continent\").max().reset_index()"
   ]
  },
  {
   "cell_type": "markdown",
   "id": "4dcd01f5-ba0b-4f7f-aba2-e286ba3a1475",
   "metadata": {},
   "source": [
    "# 8. Feature Engineering : "
   ]
  },
  {
   "cell_type": "markdown",
   "id": "eb6fc11f-cacb-432b-878e-29789d431180",
   "metadata": {},
   "source": [
    "## a. Create a new feature 'total_deaths_to_total_cases' by ratio of 'total_deaths' column to 'total_cases' "
   ]
  },
  {
   "cell_type": "code",
   "execution_count": 26,
   "id": "6047d556-0f1a-4ca4-8086-7991789bef67",
   "metadata": {},
   "outputs": [
    {
     "data": {
      "text/html": [
       "<div>\n",
       "<style scoped>\n",
       "    .dataframe tbody tr th:only-of-type {\n",
       "        vertical-align: middle;\n",
       "    }\n",
       "\n",
       "    .dataframe tbody tr th {\n",
       "        vertical-align: top;\n",
       "    }\n",
       "\n",
       "    .dataframe thead th {\n",
       "        text-align: right;\n",
       "    }\n",
       "</style>\n",
       "<table border=\"1\" class=\"dataframe\">\n",
       "  <thead>\n",
       "    <tr style=\"text-align: right;\">\n",
       "      <th></th>\n",
       "      <th>continent</th>\n",
       "      <th>location</th>\n",
       "      <th>date</th>\n",
       "      <th>total_cases</th>\n",
       "      <th>total_deaths</th>\n",
       "      <th>gdp_per_capita</th>\n",
       "      <th>human_development_index</th>\n",
       "      <th>month</th>\n",
       "      <th>total_deaths_to_total_cases</th>\n",
       "    </tr>\n",
       "  </thead>\n",
       "  <tbody>\n",
       "    <tr>\n",
       "      <th>0</th>\n",
       "      <td>Africa</td>\n",
       "      <td>Zimbabwe</td>\n",
       "      <td>2020-12-11</td>\n",
       "      <td>752269.0</td>\n",
       "      <td>20314.0</td>\n",
       "      <td>26382.287</td>\n",
       "      <td>0.797</td>\n",
       "      <td>12</td>\n",
       "      <td>0.027004</td>\n",
       "    </tr>\n",
       "    <tr>\n",
       "      <th>1</th>\n",
       "      <td>Asia</td>\n",
       "      <td>Yemen</td>\n",
       "      <td>2020-12-11</td>\n",
       "      <td>8874290.0</td>\n",
       "      <td>130519.0</td>\n",
       "      <td>116935.600</td>\n",
       "      <td>0.933</td>\n",
       "      <td>12</td>\n",
       "      <td>0.014708</td>\n",
       "    </tr>\n",
       "    <tr>\n",
       "      <th>2</th>\n",
       "      <td>Europe</td>\n",
       "      <td>Vatican</td>\n",
       "      <td>2020-12-11</td>\n",
       "      <td>1991233.0</td>\n",
       "      <td>52147.0</td>\n",
       "      <td>94277.965</td>\n",
       "      <td>0.953</td>\n",
       "      <td>12</td>\n",
       "      <td>0.026188</td>\n",
       "    </tr>\n",
       "    <tr>\n",
       "      <th>3</th>\n",
       "      <td>North America</td>\n",
       "      <td>United States Virgin Islands</td>\n",
       "      <td>2020-12-11</td>\n",
       "      <td>11205486.0</td>\n",
       "      <td>247220.0</td>\n",
       "      <td>54225.446</td>\n",
       "      <td>0.926</td>\n",
       "      <td>12</td>\n",
       "      <td>0.022062</td>\n",
       "    </tr>\n",
       "    <tr>\n",
       "      <th>4</th>\n",
       "      <td>Oceania</td>\n",
       "      <td>Wallis and Futuna</td>\n",
       "      <td>2020-12-11</td>\n",
       "      <td>27750.0</td>\n",
       "      <td>907.0</td>\n",
       "      <td>44648.710</td>\n",
       "      <td>0.939</td>\n",
       "      <td>12</td>\n",
       "      <td>0.032685</td>\n",
       "    </tr>\n",
       "    <tr>\n",
       "      <th>5</th>\n",
       "      <td>South America</td>\n",
       "      <td>Venezuela</td>\n",
       "      <td>2020-12-11</td>\n",
       "      <td>5876464.0</td>\n",
       "      <td>166014.0</td>\n",
       "      <td>22767.037</td>\n",
       "      <td>0.843</td>\n",
       "      <td>12</td>\n",
       "      <td>0.028251</td>\n",
       "    </tr>\n",
       "  </tbody>\n",
       "</table>\n",
       "</div>"
      ],
      "text/plain": [
       "       continent                      location       date  total_cases  \\\n",
       "0         Africa                      Zimbabwe 2020-12-11     752269.0   \n",
       "1           Asia                         Yemen 2020-12-11    8874290.0   \n",
       "2         Europe                       Vatican 2020-12-11    1991233.0   \n",
       "3  North America  United States Virgin Islands 2020-12-11   11205486.0   \n",
       "4        Oceania             Wallis and Futuna 2020-12-11      27750.0   \n",
       "5  South America                     Venezuela 2020-12-11    5876464.0   \n",
       "\n",
       "   total_deaths  gdp_per_capita  human_development_index  month  \\\n",
       "0       20314.0       26382.287                    0.797     12   \n",
       "1      130519.0      116935.600                    0.933     12   \n",
       "2       52147.0       94277.965                    0.953     12   \n",
       "3      247220.0       54225.446                    0.926     12   \n",
       "4         907.0       44648.710                    0.939     12   \n",
       "5      166014.0       22767.037                    0.843     12   \n",
       "\n",
       "   total_deaths_to_total_cases  \n",
       "0                     0.027004  \n",
       "1                     0.014708  \n",
       "2                     0.026188  \n",
       "3                     0.022062  \n",
       "4                     0.032685  \n",
       "5                     0.028251  "
      ]
     },
     "execution_count": 26,
     "metadata": {},
     "output_type": "execute_result"
    }
   ],
   "source": [
    "df_groupby[\"total_deaths_to_total_cases\"] = df_groupby.total_deaths / df_groupby.total_cases\n",
    "df_groupby"
   ]
  },
  {
   "cell_type": "markdown",
   "id": "4e5446a7-10ac-4ab7-8c07-b04dd10ee95d",
   "metadata": {},
   "source": [
    "# 9. Data Visualization : "
   ]
  },
  {
   "cell_type": "markdown",
   "id": "0228eea3-b97e-4435-8913-2202f0a94cce",
   "metadata": {},
   "source": [
    "## a. Perform Univariate analysis on 'gdp_per_capita' column by plotting histogram using seaborn dist plot. "
   ]
  },
  {
   "cell_type": "code",
   "execution_count": 27,
   "id": "7e3a08b1-09ef-408d-983b-7307c1566bfb",
   "metadata": {},
   "outputs": [
    {
     "name": "stderr",
     "output_type": "stream",
     "text": [
      "C:\\Users\\Palaskar\\AppData\\Local\\Temp\\ipykernel_6356\\3970404885.py:1: UserWarning: \n",
      "\n",
      "`distplot` is a deprecated function and will be removed in seaborn v0.14.0.\n",
      "\n",
      "Please adapt your code to use either `displot` (a figure-level function with\n",
      "similar flexibility) or `histplot` (an axes-level function for histograms).\n",
      "\n",
      "For a guide to updating your code to use the new functions, please see\n",
      "https://gist.github.com/mwaskom/de44147ed2974457ad6372750bbe5751\n",
      "\n",
      "  sns.distplot(x=df_groupby.gdp_per_capita)\n"
     ]
    },
    {
     "data": {
      "text/plain": [
       "<AxesSubplot:ylabel='Density'>"
      ]
     },
     "execution_count": 27,
     "metadata": {},
     "output_type": "execute_result"
    },
    {
     "data": {
      "image/png": "[encoded data removed]",
      "text/plain": [
       "<Figure size 640x480 with 1 Axes>"
      ]
     },
     "metadata": {},
     "output_type": "display_data"
    }
   ],
   "source": [
    "sns.distplot(x=df_groupby.gdp_per_capita)"
   ]
  },
  {
   "cell_type": "code",
   "execution_count": 28,
   "id": "de3c30f7-daae-44f4-b74e-67c12f315fc2",
   "metadata": {},
   "outputs": [
    {
     "data": {
      "text/plain": [
       "<AxesSubplot:xlabel='gdp_per_capita', ylabel='Density'>"
      ]
     },
     "execution_count": 28,
     "metadata": {},
     "output_type": "execute_result"
    },
    {
     "data": {
      "image/png": "[encoded data removed]",
      "text/plain": [
       "<Figure size 640x480 with 1 Axes>"
      ]
     },
     "metadata": {},
     "output_type": "display_data"
    }
   ],
   "source": [
    "sns.histplot(x=df_groupby.gdp_per_capita, kde=True, stat=\"density\")"
   ]
  },
  {
   "cell_type": "markdown",
   "id": "a74fc96b-0028-4d44-9265-801c678a9cf7",
   "metadata": {},
   "source": [
    "## b. Plot a scatter plot of 'total_cases' & 'gdp_per_capita' "
   ]
  },
  {
   "cell_type": "code",
   "execution_count": 29,
   "id": "437a1b25-5947-4f95-830f-a466a2cdb113",
   "metadata": {},
   "outputs": [
    {
     "data": {
      "text/plain": [
       "<AxesSubplot:xlabel='total_cases', ylabel='gdp_per_capita'>"
      ]
     },
     "execution_count": 29,
     "metadata": {},
     "output_type": "execute_result"
    },
    {
     "data": {
      "image/png": "[encoded data removed]",
      "text/plain": [
       "<Figure size 1000x500 with 1 Axes>"
      ]
     },
     "metadata": {},
     "output_type": "display_data"
    }
   ],
   "source": [
    "plt.figure(figsize=(10,5))\n",
    "sns.scatterplot(x=df_groupby.total_cases, y=df_groupby.gdp_per_capita)"
   ]
  },
  {
   "cell_type": "markdown",
   "id": "d971c1ce-f01c-48f8-b55f-fa1f495c49f1",
   "metadata": {},
   "source": [
    "## c. Plot Pairplot on df_groupby dataset. "
   ]
  },
  {
   "cell_type": "code",
   "execution_count": 30,
   "id": "07016fd6-57f7-498c-8bf0-365221cb659f",
   "metadata": {},
   "outputs": [
    {
     "data": {
      "text/plain": [
       "<seaborn.axisgrid.PairGrid at 0x26b71a51a60>"
      ]
     },
     "execution_count": 30,
     "metadata": {},
     "output_type": "execute_result"
    },
    {
     "data": {
      "image/png": "[encoded data removed]",
      "text/plain": [
       "<Figure size 1500x1500 with 42 Axes>"
      ]
     },
     "metadata": {},
     "output_type": "display_data"
    }
   ],
   "source": [
    "sns.pairplot(df_groupby)"
   ]
  },
  {
   "cell_type": "markdown",
   "id": "0eb57186-7a21-4a0b-99cc-9f4b5f42b22c",
   "metadata": {},
   "source": [
    "## d. Plot a bar plot of 'continent' column with 'total_cases' . Tip : using kind='bar' in seaborn catplot "
   ]
  },
  {
   "cell_type": "code",
   "execution_count": 31,
   "id": "f9bfe20e-6be8-4db1-9a78-0b00a847e706",
   "metadata": {},
   "outputs": [
    {
     "data": {
      "image/png": "[encoded data removed]",
      "text/plain": [
       "<Figure size 1000x500 with 1 Axes>"
      ]
     },
     "metadata": {},
     "output_type": "display_data"
    }
   ],
   "source": [
    "plot = sns.catplot(data=df_groupby, x=\"continent\", y=\"total_cases\", kind=\"bar\")\n",
    "plot.fig.set_figwidth(10)"
   ]
  },
  {
   "cell_type": "markdown",
   "id": "a3452e7f-365b-4dc2-86d6-3e7454b1814a",
   "metadata": {},
   "source": [
    "# 10. Save the df_groupby dataframe in your local drive using pandas.to_csv function."
   ]
  },
  {
   "cell_type": "code",
   "execution_count": 32,
   "id": "72340e59-0abd-412c-9684-1f4081da25b4",
   "metadata": {},
   "outputs": [],
   "source": [
    "df_groupby.to_csv(\"df_groupby.csv\")"
   ]
  }
 ],
 "metadata": {
  "kernelspec": {
   "display_name": "Python 3 (ipykernel)",
   "language": "python",
   "name": "python3"
  },
  "language_info": {
   "codemirror_mode": {
    "name": "ipython",
    "version": 3
   },
   "file_extension": ".py",
   "mimetype": "text/x-python",
   "name": "python",
   "nbconvert_exporter": "python",
   "pygments_lexer": "ipython3",
   "version": "3.9.15"
  }
 },
 "nbformat": 4,
 "nbformat_minor": 5
}
